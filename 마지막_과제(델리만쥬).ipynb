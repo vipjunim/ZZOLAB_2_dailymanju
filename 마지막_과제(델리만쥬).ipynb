{
  "nbformat": 4,
  "nbformat_minor": 0,
  "metadata": {
    "colab": {
      "provenance": [],
      "authorship_tag": "ABX9TyPZEUHZttDua4KRdp4zxCVI",
      "include_colab_link": true
    },
    "kernelspec": {
      "name": "python3",
      "display_name": "Python 3"
    },
    "language_info": {
      "name": "python"
    }
  },
  "cells": [
    {
      "cell_type": "markdown",
      "metadata": {
        "id": "view-in-github",
        "colab_type": "text"
      },
      "source": [
        "<a href=\"https://colab.research.google.com/github/vipjunim/ZZOLAB_2_dailymanju/blob/main/%EB%A7%88%EC%A7%80%EB%A7%89_%EA%B3%BC%EC%A0%9C(%EB%8D%B8%EB%A6%AC%EB%A7%8C%EC%A5%AC).ipynb\" target=\"_parent\"><img src=\"https://colab.research.google.com/assets/colab-badge.svg\" alt=\"Open In Colab\"/></a>"
      ]
    },
    {
      "cell_type": "markdown",
      "source": [
        "학교에서 배우는 '저출산'과 '고령화'\n",
        "\n",
        "10년 전과 비교해서 노인인구, 아동인구는 얼마나 변화했을까"
      ],
      "metadata": {
        "id": "-m0THDIhrl93"
      }
    },
    {
      "cell_type": "code",
      "execution_count": null,
      "metadata": {
        "id": "8LFBvlPynPlD"
      },
      "outputs": [],
      "source": [
        "#데이터업로드하기\n",
        "from google.colab import files\n",
        "files.upload()"
      ]
    },
    {
      "cell_type": "code",
      "source": [
        "#데이터업로드 확인하기\n",
        "ls"
      ],
      "metadata": {
        "id": "jLnIMtrtqngG"
      },
      "execution_count": null,
      "outputs": []
    },
    {
      "cell_type": "code",
      "source": [
        "#한글 폰트 세팅하기\n",
        "!apt-get install fonts-nanum -qq > /dev/null\n",
        "!fc-cache -fv\n",
        "import matplotlib as mpl\n",
        "mpl.font_manager._rebuild()\n",
        "findfont = mpl.font_manager.fontManager.findfont\n",
        "mpl.font_manager.findfont = findfont\n",
        "mpl.backends.backend_agg.findfont = findfont"
      ],
      "metadata": {
        "id": "BA_4q_l_qtJU"
      },
      "execution_count": null,
      "outputs": []
    },
    {
      "cell_type": "code",
      "source": [
        "#2012년과 2022년의 아동(18세 미만) 인구 수 차이\n",
        "import csv\n",
        "data1 = csv.reader(open('young2012.csv', encoding = 'cp949'))\n",
        "data2 = csv.reader(open('young2022.csv', encoding = 'cp949'))\n",
        "\n",
        "x1=[]\n",
        "x2=[]\n",
        "result=[]\n",
        "name = input('아동 인구 수 변화가 궁금한 지역을 지역을 입력해주세요: ')\n",
        "for row in data1 :\n",
        "  if name in row [0] :\n",
        "    for i in range(4, 7) :\n",
        "      x1.append(int(row[i]))\n",
        "    break\n",
        "for row in data2 :\n",
        "  if name in row[0] :\n",
        "    for i in range(4, 7) :\n",
        "      x2.append(int(row[i]))\n",
        "    break\n",
        "\n",
        "for i in range(3) :\n",
        "  result.append(x1[i] - x2[i])\n",
        "\n",
        "import matplotlib.pyplot as plt\n",
        "plt.figure(dpi = 100)\n",
        "plt.title(name + ' 지역의 10년간 아동 인구 차이')\n",
        "plt.bar(range(3), result, label = '2012 - 2022')\n",
        "plt.legend()\n",
        "plt.show()"
      ],
      "metadata": {
        "id": "jLOIZ_dQq0TO"
      },
      "execution_count": null,
      "outputs": []
    },
    {
      "cell_type": "code",
      "source": [
        "#2012년과 2022년의 노인(65세 이상) 인구 수 차이\n",
        "import csv\n",
        "data1 = csv.reader(open('old2012.csv', encoding = 'cp949'))\n",
        "data2 = csv.reader(open('old2022.csv', encoding = 'cp949'))\n",
        "\n",
        "x1=[]\n",
        "x2=[]\n",
        "result=[]\n",
        "name = input('노인 인구 수 변화가 궁금한 지역을 지역을 입력해주세요: ')\n",
        "for row in data1 :\n",
        "  if name in row [0] :\n",
        "    for i in range(4, 7) :\n",
        "      x1.append(int(row[i]))\n",
        "    break\n",
        "for row in data2 :\n",
        "  if name in row[0] :\n",
        "    for i in range(4, 7) :\n",
        "      x2.append(int(row[i]))\n",
        "    break\n",
        "\n",
        "for i in range(3) :\n",
        "  result.append(x2[i] - x1[i])\n",
        "\n",
        "import matplotlib.pyplot as plt\n",
        "plt.figure(dpi = 100)\n",
        "plt.title(name + ' 지역의 10년간 노인 인구 차이')\n",
        "plt.bar(range(3), result, label = '2022 - 2012')\n",
        "plt.legend()\n",
        "plt.show()"
      ],
      "metadata": {
        "id": "KixhosHwrNBB"
      },
      "execution_count": null,
      "outputs": []
    },
    {
      "cell_type": "code",
      "source": [],
      "metadata": {
        "id": "c6EZIZ7z1U_a"
      },
      "execution_count": 39,
      "outputs": []
    }
  ]
}