{
  "nbformat": 4,
  "nbformat_minor": 0,
  "metadata": {
    "colab": {
      "provenance": [],
      "authorship_tag": "ABX9TyNJAUnWOZW15JeKuVhB3ofu",
      "include_colab_link": true
    },
    "kernelspec": {
      "name": "python3",
      "display_name": "Python 3"
    },
    "language_info": {
      "name": "python"
    }
  },
  "cells": [
    {
      "cell_type": "markdown",
      "metadata": {
        "id": "view-in-github",
        "colab_type": "text"
      },
      "source": [
        "<a href=\"https://colab.research.google.com/github/vipjunim/ZZOLAB_2_dailymanju/blob/main/%EB%A7%88%EC%A7%80%EB%A7%89_%EA%B3%BC%EC%A0%9C(%EB%8D%B8%EB%A6%AC%EB%A7%8C%EC%A5%AC).ipynb\" target=\"_parent\"><img src=\"https://colab.research.google.com/assets/colab-badge.svg\" alt=\"Open In Colab\"/></a>"
      ]
    },
    {
      "cell_type": "markdown",
      "source": [
        "지역별 미세먼지 데이터 활용하기\n",
        "1. 2020-2021년 강남구의 미세먼지가 가장 심할 때와 가장 맑을 때는 언제일까\n",
        "2. 5월과 10월의 미세먼지 수치 비교 그래프 만들기"
      ],
      "metadata": {
        "id": "jibeiOCVSWSd"
      }
    },
    {
      "cell_type": "code",
      "source": [
        "from google.colab import files\n",
        "files.upload()"
      ],
      "metadata": {
        "id": "nOSP55KCbbc0"
      },
      "execution_count": null,
      "outputs": []
    },
    {
      "cell_type": "code",
      "source": [
        "ls"
      ],
      "metadata": {
        "colab": {
          "base_uri": "https://localhost:8080/"
        },
        "id": "2ri2kckVcXyF",
        "outputId": "b467015b-7cf3-45f2-8a98-10c81c754f89"
      },
      "execution_count": 2,
      "outputs": [
        {
          "output_type": "stream",
          "name": "stdout",
          "text": [
            "\u001b[0m\u001b[01;34msample_data\u001b[0m/  seouldust2020-2021.csv\n"
          ]
        }
      ]
    },
    {
      "cell_type": "code",
      "source": [
        "#강남구의 미세먼지 초미세먼지 데이터 출력하기\n",
        "import csv\n",
        "data = csv.reader(open('seouldust2020-2021.csv', encoding = 'cp949'))\n",
        "\n",
        "for row in data :\n",
        "  if row[-1] != '' :\n",
        "    if '강남구' in row[1] : \n",
        "      print(row)"
      ],
      "metadata": {
        "id": "6RCQyFgjcm9D"
      },
      "execution_count": null,
      "outputs": []
    },
    {
      "cell_type": "code",
      "source": [
        "#강남구의 미세먼지가 가장 심했을 때 미세먼지 수치\n",
        "import csv\n",
        "data = csv.reader(open('seouldust2020-2021.csv', encoding = 'cp949'))\n",
        "next(data)\n",
        "memo = 0\n",
        "date=''\n",
        "for row in data :\n",
        "  if row[-1] != '' :\n",
        "    if '강남구' in row[1] : \n",
        "      if memo < float(row[-1]) :\n",
        "        memo = float(row[-1])\n",
        "        date=row[0]\n",
        "print(date,'2020-2021년 강남구의 가장 높은 미세먼지 수치는' + str(memo) +'입니다')"
      ],
      "metadata": {
        "colab": {
          "base_uri": "https://localhost:8080/"
        },
        "id": "AsDWS-H_g-ww",
        "outputId": "a2e49a46-4dd9-481e-a394-43aee5e897b9"
      },
      "execution_count": 29,
      "outputs": [
        {
          "output_type": "stream",
          "name": "stdout",
          "text": [
            "2021-05-08 1:00 2020-2021년 강남구의 가장 높은 미세먼지 수치는138.0입니다\n"
          ]
        }
      ]
    },
    {
      "cell_type": "code",
      "source": [
        "#강남구의 날씨가 가장 맑았을 때 미세먼지 수치\n",
        "import csv\n",
        "data = csv.reader(open('seouldust2020-2021.csv', encoding = 'cp949'))\n",
        "next(data)\n",
        "memo = 50\n",
        "date=''\n",
        "for row in data :\n",
        "  if row[-1] != '' :\n",
        "    if '강남구' in row[1] : \n",
        "      if memo > float(row[-1]) :\n",
        "        memo = float(row[-1])\n",
        "        date=row[0]\n",
        "print(date,'2020-2021년 강남구의 가장 낮은 미세먼지 수치는' + str(memo) +'입니다')"
      ],
      "metadata": {
        "colab": {
          "base_uri": "https://localhost:8080/"
        },
        "id": "Jeana3YhjEi5",
        "outputId": "7640f6a9-81de-493a-ae93-46350b1b8a6a"
      },
      "execution_count": 30,
      "outputs": [
        {
          "output_type": "stream",
          "name": "stdout",
          "text": [
            "2021-05-17 4:00 2020-2021년 강남구의 가장 낮은 미세먼지 수치는1.0입니다\n"
          ]
        }
      ]
    },
    {
      "cell_type": "code",
      "source": [
        "#5월과 10월의 미세먼지 수치 비교하기\n",
        "import csv\n",
        "data = csv.reader(open('seouldust2020-2021.csv', encoding = 'cp949'))\n",
        "next(data)\n",
        "\n",
        "may=[]\n",
        "oct=[]\n",
        "for row in data :\n",
        "  if row[-1] != '' :\n",
        "    if row[0].split('-')[1] =='05' :\n",
        "      may.append(float(row[-1]))\n",
        "    if row[0].split('-')[1] =='10' :\n",
        "      oct.append(float(row[-1]))\n",
        "\n",
        "import matplotlib.pyplot as plt\n",
        "plt.boxplot([may, oct])\n",
        "plt.show()"
      ],
      "metadata": {
        "colab": {
          "base_uri": "https://localhost:8080/",
          "height": 321
        },
        "id": "6QWr22a6nbYc",
        "outputId": "7559d30c-87e2-413e-fad6-5cd6c3dc4989"
      },
      "execution_count": 35,
      "outputs": [
        {
          "output_type": "stream",
          "name": "stderr",
          "text": [
            "/usr/local/lib/python3.7/dist-packages/matplotlib/cbook/__init__.py:1376: VisibleDeprecationWarning: Creating an ndarray from ragged nested sequences (which is a list-or-tuple of lists-or-tuples-or ndarrays with different lengths or shapes) is deprecated. If you meant to do this, you must specify 'dtype=object' when creating the ndarray.\n",
            "  X = np.atleast_1d(X.T if isinstance(X, np.ndarray) else np.asarray(X))\n"
          ]
        },
        {
          "output_type": "display_data",
          "data": {
            "text/plain": [
              "<Figure size 432x288 with 1 Axes>"
            ],
            "image/png": "[encoded data removed]"
          },
          "metadata": {
            "needs_background": "light"
          }
        }
      ]
    },
    {
      "cell_type": "code",
      "source": [],
      "metadata": {
        "id": "VXh4f_KqsnB0"
      },
      "execution_count": null,
      "outputs": []
    }
  ]
}