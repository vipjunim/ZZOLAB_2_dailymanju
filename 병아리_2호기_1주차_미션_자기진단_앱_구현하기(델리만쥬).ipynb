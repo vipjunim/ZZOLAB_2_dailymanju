{
  "nbformat": 4,
  "nbformat_minor": 0,
  "metadata": {
    "colab": {
      "provenance": [],
      "authorship_tag": "ABX9TyN8BZCxEBaGs+O6XwWIqbyZ",
      "include_colab_link": true
    },
    "kernelspec": {
      "name": "python3",
      "display_name": "Python 3"
    },
    "language_info": {
      "name": "python"
    }
  },
  "cells": [
    {
      "cell_type": "markdown",
      "metadata": {
        "id": "view-in-github",
        "colab_type": "text"
      },
      "source": [
        "<a href=\"https://colab.research.google.com/github/vipjunim/dailymanju/blob/main/%EB%B3%91%EC%95%84%EB%A6%AC_2%ED%98%B8%EA%B8%B0_1%EC%A3%BC%EC%B0%A8_%EB%AF%B8%EC%85%98_%EC%9E%90%EA%B8%B0%EC%A7%84%EB%8B%A8_%EC%95%B1_%EA%B5%AC%ED%98%84%ED%95%98%EA%B8%B0(%EB%8D%B8%EB%A6%AC%EB%A7%8C%EC%A5%AC).ipynb\" target=\"_parent\"><img src=\"https://colab.research.google.com/assets/colab-badge.svg\" alt=\"Open In Colab\"/></a>"
      ]
    },
    {
      "cell_type": "code",
      "source": [
        "# 개요\n",
        "# 1. 개정 생성\n",
        "## 1) 아이디 생성하기\n",
        "## 2) 비밀번호 생성하기\n",
        "## 3) 비밀번호 조건을 4자리 숫자로 제한하기\n",
        "\n",
        "# 2. 자가진단 설문 조사\n",
        "## 1) 아이디와 비밀번호 입력하기\n",
        "## 2) 로그인 성공 후 자가진단 설문하기 > 기존 설문보단 간결하게 하여 가독성 높이기\n",
        "## 3) '양성'인 경우 '방역 기관 통보 내역'을 작성하도록 안내하기\n",
        "## 4) 아이디, 비밀 번호가 틀린 경우 다시 입력하도록 하기"
      ],
      "metadata": {
        "id": "bWScV_5fL7up"
      },
      "execution_count": null,
      "outputs": []
    },
    {
      "cell_type": "code",
      "source": [
        "#계정 생성\n",
        "\n",
        "id = input ('아이디를 입력하세요 : ')\n",
        "time.sleep(2)\n",
        "while True :\n",
        "  passwd = input('비밀번호를 입력하세요(4자리 숫자) : ')\n",
        "  if (int(passwd) <= 1000 or int(passwd) > 9999) :\n",
        "    print ('비밀번호는 4자리 숫자로 설정하십시오')\n",
        "  \n",
        "  else :\n",
        "    print ('계정이 생성되었습니다. 로그인 페이지로 돌아갑니다.')\n",
        "    break\n"
      ],
      "metadata": {
        "colab": {
          "base_uri": "https://localhost:8080/"
        },
        "id": "Ri6yVLPYmIqG",
        "outputId": "ebc50bfb-d1b7-4d77-cc74-7a5dc64db9be"
      },
      "execution_count": null,
      "outputs": [
        {
          "output_type": "stream",
          "name": "stdout",
          "text": [
            "아이디를 입력하세요 : ㅇㅇㅇㅇㅇㅇㅇㅇㅇㅇㅇㅇ\\\n",
            "비밀번호를 입력하세요(4자리 숫자) : 1234\n",
            "계정이 생성되었습니다. 로그인 페이지로 돌아갑니다\n"
          ]
        }
      ]
    },
    {
      "cell_type": "code",
      "execution_count": null,
      "metadata": {
        "colab": {
          "base_uri": "https://localhost:8080/"
        },
        "id": "38knOWz6eqnU",
        "outputId": "9e5a32a2-7de3-4b10-fa8a-018f27f30b19"
      },
      "outputs": [
        {
          "output_type": "stream",
          "name": "stdout",
          "text": [
            "아이디를 입력하세요 : vipjunim\n",
            "비밀번호를 입력하세요(4자리 숫자) : 1234\n",
            "로그인에 성공하였습니다\n",
            "현재 코로나 증상(발열, 기침 등)이 있습니까?(Y/N)N\n",
            "등교 가능\n"
          ]
        }
      ],
      "source": [
        "# 코로나 자가진단 설문 조사\n",
        "# 양성인 경우 방역기관 통보 내역 작성하는 메시지 창\n",
        "# 기존의 긴 질문이 아닌 간결한 질문으로 수정\n",
        "\n",
        "import time\n",
        "\n",
        "my_id = 'vipjunim'\n",
        "my_passwd = '1234'\n",
        "\n",
        "while True :\n",
        "  id = input('아이디를 입력하세요 : ')\n",
        "  passwd = input('비밀번호를 입력하세요(4자리 숫자) : ')\n",
        "  if id == 'vipjunim' and passwd == '1234' :\n",
        "    print ('로그인에 성공하였습니다')\n",
        "    time.sleep(2)\n",
        "\n",
        "    q1 = input('현재 코로나 증상(발열, 기침 등)이 있습니까?(Y/N)')\n",
        "    if q1 == 'N' :\n",
        "      time.sleep(2)\n",
        "      print ('등교 가능')\n",
        "      break\n",
        "\n",
        "    else :\n",
        "      q2 = input ('신속 항원 검사 또는 PCR 검사 결과가 양성입니까? (Y/N)') \n",
        "\n",
        "      if q2 == 'N' :\n",
        "        print ('등교 가능(증상이 심한 경우 집에서 쉬는 것을 권장')\n",
        "        break\n",
        "\n",
        "      else :\n",
        "          print ('방역 기관 통보 내역을 작성해 주십시오.')\n",
        "          break\n",
        "\n",
        "  elif id == 'vipjunim' and passwd != '1234' :\n",
        "    print ('비밀번호를 확인하세요(4자리 숫자)')\n",
        "    time.sleep(1)  \n",
        "  \n",
        "  else :\n",
        "    print ('로그인에 실패하였습니다.')\n",
        "    time.sleep(1)  \n"
      ]
    }
  ]
}